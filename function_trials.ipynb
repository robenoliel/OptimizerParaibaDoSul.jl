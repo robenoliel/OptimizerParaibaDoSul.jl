{
 "cells": [
  {
   "cell_type": "code",
   "execution_count": 43,
   "metadata": {},
   "outputs": [
    {
     "name": "stderr",
     "output_type": "stream",
     "text": [
      "WARNING: replacing module OptimizerParaibaDoSul.\n"
     ]
    },
    {
     "data": {
      "text/plain": [
       "Main.OptimizerParaibaDoSul"
      ]
     },
     "execution_count": 43,
     "metadata": {},
     "output_type": "execute_result"
    }
   ],
   "source": [
    "using DataFrames, CSV, Dates, Measures, Statistics, StatsPlots, IterativeSolvers, Polynomials, DelimitedFiles\n",
    "include(\"./src/OptimizerParaibaDoSul.jl\")\n",
    "OPS = OptimizerParaibaDoSul"
   ]
  },
  {
   "cell_type": "code",
   "execution_count": 16,
   "metadata": {},
   "outputs": [
    {
     "data": {
      "text/html": [
       "<div class=\"data-frame\"><p>1,068 rows × 2 columns</p><table class=\"data-frame\"><thead><tr><th></th><th>month</th><th>ps_equivalent_reservoir</th></tr><tr><th></th><th title=\"Int64\">Int64</th><th title=\"Float64\">Float64</th></tr></thead><tbody><tr><th>1</th><td>1</td><td>0.946673</td></tr><tr><th>2</th><td>2</td><td>0.998262</td></tr><tr><th>3</th><td>3</td><td>1.0</td></tr><tr><th>4</th><td>4</td><td>1.0</td></tr><tr><th>5</th><td>5</td><td>1.0</td></tr><tr><th>6</th><td>6</td><td>1.0</td></tr><tr><th>7</th><td>7</td><td>0.968483</td></tr><tr><th>8</th><td>8</td><td>0.913217</td></tr><tr><th>9</th><td>9</td><td>0.874887</td></tr><tr><th>10</th><td>10</td><td>0.856266</td></tr><tr><th>11</th><td>11</td><td>0.892653</td></tr><tr><th>12</th><td>12</td><td>1.0</td></tr><tr><th>13</th><td>1</td><td>1.0</td></tr><tr><th>14</th><td>2</td><td>1.0</td></tr><tr><th>15</th><td>3</td><td>1.0</td></tr><tr><th>16</th><td>4</td><td>1.0</td></tr><tr><th>17</th><td>5</td><td>1.0</td></tr><tr><th>18</th><td>6</td><td>1.0</td></tr><tr><th>19</th><td>7</td><td>0.973443</td></tr><tr><th>20</th><td>8</td><td>0.9319</td></tr><tr><th>21</th><td>9</td><td>0.882152</td></tr><tr><th>22</th><td>10</td><td>0.847789</td></tr><tr><th>23</th><td>11</td><td>0.865959</td></tr><tr><th>24</th><td>12</td><td>0.990069</td></tr><tr><th>25</th><td>1</td><td>1.0</td></tr><tr><th>26</th><td>2</td><td>1.0</td></tr><tr><th>27</th><td>3</td><td>1.0</td></tr><tr><th>28</th><td>4</td><td>0.932469</td></tr><tr><th>29</th><td>5</td><td>0.883987</td></tr><tr><th>30</th><td>6</td><td>0.816446</td></tr><tr><th>&vellip;</th><td>&vellip;</td><td>&vellip;</td></tr></tbody></table></div>"
      ],
      "text/latex": [
       "\\begin{tabular}{r|cc}\n",
       "\t& month & ps\\_equivalent\\_reservoir\\\\\n",
       "\t\\hline\n",
       "\t& Int64 & Float64\\\\\n",
       "\t\\hline\n",
       "\t1 & 1 & 0.946673 \\\\\n",
       "\t2 & 2 & 0.998262 \\\\\n",
       "\t3 & 3 & 1.0 \\\\\n",
       "\t4 & 4 & 1.0 \\\\\n",
       "\t5 & 5 & 1.0 \\\\\n",
       "\t6 & 6 & 1.0 \\\\\n",
       "\t7 & 7 & 0.968483 \\\\\n",
       "\t8 & 8 & 0.913217 \\\\\n",
       "\t9 & 9 & 0.874887 \\\\\n",
       "\t10 & 10 & 0.856266 \\\\\n",
       "\t11 & 11 & 0.892653 \\\\\n",
       "\t12 & 12 & 1.0 \\\\\n",
       "\t13 & 1 & 1.0 \\\\\n",
       "\t14 & 2 & 1.0 \\\\\n",
       "\t15 & 3 & 1.0 \\\\\n",
       "\t16 & 4 & 1.0 \\\\\n",
       "\t17 & 5 & 1.0 \\\\\n",
       "\t18 & 6 & 1.0 \\\\\n",
       "\t19 & 7 & 0.973443 \\\\\n",
       "\t20 & 8 & 0.9319 \\\\\n",
       "\t21 & 9 & 0.882152 \\\\\n",
       "\t22 & 10 & 0.847789 \\\\\n",
       "\t23 & 11 & 0.865959 \\\\\n",
       "\t24 & 12 & 0.990069 \\\\\n",
       "\t25 & 1 & 1.0 \\\\\n",
       "\t26 & 2 & 1.0 \\\\\n",
       "\t27 & 3 & 1.0 \\\\\n",
       "\t28 & 4 & 0.932469 \\\\\n",
       "\t29 & 5 & 0.883987 \\\\\n",
       "\t30 & 6 & 0.816446 \\\\\n",
       "\t$\\dots$ & $\\dots$ & $\\dots$ \\\\\n",
       "\\end{tabular}\n"
      ],
      "text/plain": [
       "\u001b[1m1068×2 DataFrame\u001b[0m\n",
       "\u001b[1m  Row \u001b[0m│\u001b[1m month \u001b[0m\u001b[1m ps_equivalent_reservoir \u001b[0m\n",
       "\u001b[1m      \u001b[0m│\u001b[90m Int64 \u001b[0m\u001b[90m Float64                 \u001b[0m\n",
       "──────┼────────────────────────────────\n",
       "    1 │     1                0.946673\n",
       "    2 │     2                0.998262\n",
       "    3 │     3                1.0\n",
       "    4 │     4                1.0\n",
       "    5 │     5                1.0\n",
       "    6 │     6                1.0\n",
       "    7 │     7                0.968483\n",
       "    8 │     8                0.913217\n",
       "    9 │     9                0.874887\n",
       "   10 │    10                0.856266\n",
       "   11 │    11                0.892653\n",
       "  ⋮   │   ⋮               ⋮\n",
       " 1059 │     3                0.398353\n",
       " 1060 │     4                0.427813\n",
       " 1061 │     5                0.449451\n",
       " 1062 │     6                0.421109\n",
       " 1063 │     7                0.395401\n",
       " 1064 │     8                0.338421\n",
       " 1065 │     9                0.287598\n",
       " 1066 │    10                0.233832\n",
       " 1067 │    11                0.213014\n",
       " 1068 │    12                0.266575\n",
       "\u001b[36m                      1047 rows omitted\u001b[0m"
      ]
     },
     "execution_count": 16,
     "metadata": {},
     "output_type": "execute_result"
    }
   ],
   "source": [
    "dir = \"function_trials\"\n",
    "base_name = \"base_results\"\n",
    "df_reservoir = DataFrame(CSV.File(joinpath(base_name,\"results\",base_name*\"_reservoir_Hm3.csv\")))[:,[\"month\",\"ps_equivalent_reservoir\"]]"
   ]
  },
  {
   "cell_type": "code",
   "execution_count": 17,
   "metadata": {},
   "outputs": [
    {
     "data": {
      "text/html": [
       "<div class=\"data-frame\"><p>12 rows × 5 columns</p><table class=\"data-frame\"><thead><tr><th></th><th>month</th><th>mean</th><th>max</th><th>min</th><th>std</th></tr><tr><th></th><th title=\"Int64\">Int64</th><th title=\"Float64\">Float64</th><th title=\"Float64\">Float64</th><th title=\"Float64\">Float64</th><th title=\"Float64\">Float64</th></tr></thead><tbody><tr><th>1</th><td>1</td><td>0.83585</td><td>1.0</td><td>0.158549</td><td>0.197732</td></tr><tr><th>2</th><td>2</td><td>0.879866</td><td>1.0</td><td>0.204769</td><td>0.189582</td></tr><tr><th>3</th><td>3</td><td>0.905726</td><td>1.0</td><td>0.248081</td><td>0.168852</td></tr><tr><th>4</th><td>4</td><td>0.896392</td><td>1.0</td><td>0.225346</td><td>0.171108</td></tr><tr><th>5</th><td>5</td><td>0.876286</td><td>1.0</td><td>0.176443</td><td>0.175476</td></tr><tr><th>6</th><td>6</td><td>0.839564</td><td>1.0</td><td>0.122449</td><td>0.177403</td></tr><tr><th>7</th><td>7</td><td>0.790173</td><td>1.0</td><td>0.0506449</td><td>0.182603</td></tr><tr><th>8</th><td>8</td><td>0.730763</td><td>1.0</td><td>-0.0151182</td><td>0.183928</td></tr><tr><th>9</th><td>9</td><td>0.686146</td><td>1.0</td><td>-0.0292304</td><td>0.187882</td></tr><tr><th>10</th><td>10</td><td>0.659193</td><td>1.0</td><td>-0.0319221</td><td>0.192363</td></tr><tr><th>11</th><td>11</td><td>0.691275</td><td>1.0</td><td>-0.026826</td><td>0.201189</td></tr><tr><th>12</th><td>12</td><td>0.762662</td><td>1.0</td><td>0.0606153</td><td>0.211152</td></tr></tbody></table></div>"
      ],
      "text/latex": [
       "\\begin{tabular}{r|ccccc}\n",
       "\t& month & mean & max & min & std\\\\\n",
       "\t\\hline\n",
       "\t& Int64 & Float64 & Float64 & Float64 & Float64\\\\\n",
       "\t\\hline\n",
       "\t1 & 1 & 0.83585 & 1.0 & 0.158549 & 0.197732 \\\\\n",
       "\t2 & 2 & 0.879866 & 1.0 & 0.204769 & 0.189582 \\\\\n",
       "\t3 & 3 & 0.905726 & 1.0 & 0.248081 & 0.168852 \\\\\n",
       "\t4 & 4 & 0.896392 & 1.0 & 0.225346 & 0.171108 \\\\\n",
       "\t5 & 5 & 0.876286 & 1.0 & 0.176443 & 0.175476 \\\\\n",
       "\t6 & 6 & 0.839564 & 1.0 & 0.122449 & 0.177403 \\\\\n",
       "\t7 & 7 & 0.790173 & 1.0 & 0.0506449 & 0.182603 \\\\\n",
       "\t8 & 8 & 0.730763 & 1.0 & -0.0151182 & 0.183928 \\\\\n",
       "\t9 & 9 & 0.686146 & 1.0 & -0.0292304 & 0.187882 \\\\\n",
       "\t10 & 10 & 0.659193 & 1.0 & -0.0319221 & 0.192363 \\\\\n",
       "\t11 & 11 & 0.691275 & 1.0 & -0.026826 & 0.201189 \\\\\n",
       "\t12 & 12 & 0.762662 & 1.0 & 0.0606153 & 0.211152 \\\\\n",
       "\\end{tabular}\n"
      ],
      "text/plain": [
       "\u001b[1m12×5 DataFrame\u001b[0m\n",
       "\u001b[1m Row \u001b[0m│\u001b[1m month \u001b[0m\u001b[1m mean     \u001b[0m\u001b[1m max     \u001b[0m\u001b[1m min        \u001b[0m\u001b[1m std      \u001b[0m\n",
       "\u001b[1m     \u001b[0m│\u001b[90m Int64 \u001b[0m\u001b[90m Float64  \u001b[0m\u001b[90m Float64 \u001b[0m\u001b[90m Float64    \u001b[0m\u001b[90m Float64  \u001b[0m\n",
       "─────┼────────────────────────────────────────────────\n",
       "   1 │     1  0.83585       1.0   0.158549   0.197732\n",
       "   2 │     2  0.879866      1.0   0.204769   0.189582\n",
       "   3 │     3  0.905726      1.0   0.248081   0.168852\n",
       "   4 │     4  0.896392      1.0   0.225346   0.171108\n",
       "   5 │     5  0.876286      1.0   0.176443   0.175476\n",
       "   6 │     6  0.839564      1.0   0.122449   0.177403\n",
       "   7 │     7  0.790173      1.0   0.0506449  0.182603\n",
       "   8 │     8  0.730763      1.0  -0.0151182  0.183928\n",
       "   9 │     9  0.686146      1.0  -0.0292304  0.187882\n",
       "  10 │    10  0.659193      1.0  -0.0319221  0.192363\n",
       "  11 │    11  0.691275      1.0  -0.026826   0.201189\n",
       "  12 │    12  0.762662      1.0   0.0606153  0.211152"
      ]
     },
     "execution_count": 17,
     "metadata": {},
     "output_type": "execute_result"
    }
   ],
   "source": [
    "gdf = groupby(df_reservoir, \"month\")\n",
    "df_stats = combine(gdf,\n",
    "    \"ps_equivalent_reservoir\" => mean => \"mean\",\n",
    "    \"ps_equivalent_reservoir\" => maximum => \"max\",\n",
    "    \"ps_equivalent_reservoir\" => minimum => \"min\",\n",
    "    \"ps_equivalent_reservoir\" => std => \"std\",\n",
    "    )"
   ]
  },
  {
   "cell_type": "code",
   "execution_count": 45,
   "metadata": {},
   "outputs": [
    {
     "data": {
      "text/plain": [
       "function_compiler (generic function with 1 method)"
      ]
     },
     "execution_count": 45,
     "metadata": {},
     "output_type": "execute_result"
    }
   ],
   "source": [
    "function function_compiler(trial_params,df_stats,trial_name)\n",
    "    confidence = 2\n",
    "    b = [250,190,trial_params[\"min_flow\"]]\n",
    "    coef = zeros(12,3)\n",
    "    for i in 1:size(df_stats,1)\n",
    "        max = df_stats[i,\"max\"] - trial_params[\"reservoir_confidence\"]*(df_stats[i,\"max\"] - df_stats[i,\"mean\"])\n",
    "        min = df_stats[i,\"mean\"] - confidence*df_stats[i,\"std\"]\n",
    "        avg = df_stats[i,\"mean\"]\n",
    "\n",
    "        A = [max^2 max^1 max^0\n",
    "            avg^2 avg^1 avg^0\n",
    "            min^2 min^1 min^0]\n",
    "\n",
    "        p = Polynomial(reverse(lsmr(A,b)))\n",
    "        coef[i,:] = coeffs(p)\n",
    "        d = derivative(p)\n",
    "        x = -0.1:0.01:1\n",
    "        y = [(p(i) > b[3]) && (d(i) > 0) ? p(i) : b[3] for i in x]\n",
    "        p = plot(x,y,\n",
    "            ylim = [0,300],\n",
    "            legend = false,\n",
    "            xlabel = \"Reservatório Equivalente (%)\",\n",
    "            ylabel = \"Vazão (m^3/s)\",\n",
    "            title = \"Função de Defluência Mês $(i)\"\n",
    "        )\n",
    "\n",
    "        p = plot!([avg], seriestype=\"vline\",color=:red)\n",
    "        annotate!(avg-0.07, 305, text(\"Média: \"*string(round(avg,digits = 3)), :red, 6))\n",
    "\n",
    "        p = plot!([160], seriestype=\"hline\",color=:red)\n",
    "        annotate!(-0.16, 160, text(\"160\", :red, 6))\n",
    "\n",
    "        p = plot!([0.8], seriestype=\"vline\",color=:purple, alpha = 0.3)\n",
    "        annotate!(0.8, -15, text(\"80%\", :purple, 6))\n",
    "\n",
    "        if !isdir(joinpath(trial_name,\"figures\"))\n",
    "            mkdir(joinpath(trial_name,\"figures\"))\n",
    "        end\n",
    "\n",
    "        savefig(joinpath(trial_name,\"figures//month_$(i).png\"))\n",
    "    end\n",
    "    return coef\n",
    "end"
   ]
  },
  {
   "cell_type": "code",
   "execution_count": null,
   "metadata": {},
   "outputs": [],
   "source": [
    "trial_params = Dict(\n",
    "    \"min_flow\"=>150,\n",
    "    \"reservoir_confidence\"=>0\n",
    ")\n",
    "trial_name = \"trial_$(trial_params[\"min_flow\"])_$(Int64(round(trial_params[\"reservoir_confidence\"])))%\"\n",
    "\n",
    "if !isdir(joinpath(dir,trial_name))\n",
    "    mkdir(joinpath(dir,trial_name))\n",
    "end\n",
    "\n",
    "cp(joinpath(base_name), joinpath(dir,trial_name),force=true)\n",
    "rm(joinpath(dir,trial_name,\"results\"), recursive=true)\n",
    "\n",
    "coef = function_compiler(trial_params,df_stats,joinpath(dir,trial_name))\n",
    "writedlm(joinpath(dir,trial_name,\"defluence_poly.csv\"),  coef, '\\t')\n",
    "\n",
    "OPS.run_simulation(joinpath(dir,trial_name))"
   ]
  },
  {
   "cell_type": "code",
   "execution_count": null,
   "metadata": {},
   "outputs": [],
   "source": []
  }
 ],
 "metadata": {
  "kernelspec": {
   "display_name": "Julia 1.6.3",
   "language": "julia",
   "name": "julia-1.6"
  },
  "language_info": {
   "file_extension": ".jl",
   "mimetype": "application/julia",
   "name": "julia",
   "version": "1.6.3"
  },
  "orig_nbformat": 4
 },
 "nbformat": 4,
 "nbformat_minor": 2
}
